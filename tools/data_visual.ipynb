{
 "cells": [
  {
   "cell_type": "code",
   "execution_count": 1,
   "metadata": {},
   "outputs": [],
   "source": [
    "import numpy as np\n",
    "import pickle \n",
    "import sys \n",
    "sys.path.append('../')\n",
    "from simulator.envs import *"
   ]
  },
  {
   "cell_type": "code",
   "execution_count": 2,
   "metadata": {},
   "outputs": [],
   "source": [
    "with open('../data/DiDi_day1_grid121.pkl', 'rb') as handle:\n",
    "    data_param = pickle.load(handle) \n",
    "dura_param = data_param['duration'] # 每\n",
    "price_param = data_param['price']   # 每级邻居的价格    第0级表示自己网格 0~l_max\n",
    "neighbor = data_param['neighbor']    # neighbor>=100 表示不可达的订单\n",
    "order_param = data_param['order']   # shape=(11,11,144)  表示 (出发地，目的地，出发时间)\n",
    "l_max = 8   # 最大通勤跨邻居数\n",
    "M,N = 11,11"
   ]
  },
  {
   "cell_type": "code",
   "execution_count": 3,
   "metadata": {},
   "outputs": [
    {
     "data": {
      "text/plain": [
       "array([  135,    23,    13,    30,    58,    47,    41,     4,   195,\n",
       "         184,    45,    65,   161,   256,   289,  1136,  2171,   496,\n",
       "         140,   147,    50,     6,    60,   222,   193,   391,   835,\n",
       "         460,    78,   449,   145,   339,    18,    12,   304,   993,\n",
       "         938,  6279,  3685,  3723,  2964,   682,   296,   621,   211,\n",
       "         172,   704,  2770,  8242,  6002, 10936,  4694,  1404,   281,\n",
       "         938,   232,   927,  1672,  2369,  6598, 12528, 18976, 12167,\n",
       "        3702,  1120,   238,    72,   327,   983,  2058,  2831, 13054,\n",
       "        6845,  7241,  1931,   581,   256,    50,   271,   361,  1099,\n",
       "        1225,  2967,  1805,  2161,   849,  1689,   234,    88,   162,\n",
       "         175,   136,   353,  1374,   699,   888,   384,   426,    27,\n",
       "         472,    68,   311,   102,   142,   781,    18,   215,    24,\n",
       "         154,    47,     4,   119,    68,   105,   237,   278,   257,\n",
       "          44,     2,    12,     4])"
      ]
     },
     "execution_count": 3,
     "metadata": {},
     "output_type": "execute_result"
    }
   ],
   "source": [
    "order_source = np.sum(order_param,axis=1)\n",
    "order_source.sum(-1)"
   ]
  },
  {
   "cell_type": "code",
   "execution_count": 4,
   "metadata": {},
   "outputs": [
    {
     "data": {
      "text/plain": [
       "(array([50, 60, 61, 62, 71]),)"
      ]
     },
     "execution_count": 4,
     "metadata": {},
     "output_type": "execute_result"
    }
   ],
   "source": [
    "np.where(order_source.sum(-1)>10000)"
   ]
  },
  {
   "cell_type": "code",
   "execution_count": 12,
   "metadata": {},
   "outputs": [
    {
     "data": {
      "text/plain": [
       "(array([ 53,  59,  65,  70,  71,  77,  83,  86,  88,  89,  94,  95,  99,\n",
       "        100, 101, 105, 106, 107, 109, 112, 113, 115, 116, 118, 119, 125,\n",
       "        131]),)"
      ]
     },
     "execution_count": 12,
     "metadata": {},
     "output_type": "execute_result"
    }
   ],
   "source": [
    "np.where(order_source[61]>200)"
   ]
  },
  {
   "cell_type": "code",
   "execution_count": 15,
   "metadata": {},
   "outputs": [],
   "source": [
    "order_num = np.sum(order_param, axis=1, keepdims=True)\n",
    "order_num[order_num==0]=1\n",
    "order_prob = order_param/ order_num\n"
   ]
  },
  {
   "cell_type": "code",
   "execution_count": 19,
   "metadata": {},
   "outputs": [
    {
     "data": {
      "text/plain": [
       "array([0.        , 0.        , 0.        , 0.        , 0.        ,\n",
       "       0.        , 0.        , 0.        , 0.        , 0.        ,\n",
       "       0.        , 0.        , 0.        , 0.        , 0.        ,\n",
       "       0.        , 0.00641026, 0.00641026, 0.        , 0.        ,\n",
       "       0.        , 0.        , 0.00641026, 0.00320513, 0.        ,\n",
       "       0.        , 0.        , 0.        , 0.        , 0.        ,\n",
       "       0.        , 0.        , 0.        , 0.        , 0.00641026,\n",
       "       0.        , 0.00641026, 0.03205128, 0.01282051, 0.01282051,\n",
       "       0.01282051, 0.00641026, 0.        , 0.00641026, 0.        ,\n",
       "       0.        , 0.        , 0.01282051, 0.01923077, 0.00641026,\n",
       "       0.04487179, 0.00641026, 0.01282051, 0.        , 0.00641026,\n",
       "       0.        , 0.00641026, 0.01923077, 0.00641026, 0.03846154,\n",
       "       0.08012821, 0.04807692, 0.10897436, 0.03205128, 0.01602564,\n",
       "       0.        , 0.        , 0.        , 0.00641026, 0.01923077,\n",
       "       0.02564103, 0.02564103, 0.07692308, 0.06089744, 0.00641026,\n",
       "       0.        , 0.        , 0.        , 0.00641026, 0.00641026,\n",
       "       0.00641026, 0.01602564, 0.0224359 , 0.01282051, 0.01923077,\n",
       "       0.00641026, 0.00961538, 0.00961538, 0.        , 0.00641026,\n",
       "       0.        , 0.        , 0.        , 0.00961538, 0.00641026,\n",
       "       0.00641026, 0.00641026, 0.00641026, 0.        , 0.00961538,\n",
       "       0.00320513, 0.00641026, 0.        , 0.00320513, 0.00961538,\n",
       "       0.        , 0.        , 0.        , 0.        , 0.00320513,\n",
       "       0.        , 0.        , 0.        , 0.        , 0.00320513,\n",
       "       0.        , 0.        , 0.        , 0.        , 0.        ,\n",
       "       0.        ])"
      ]
     },
     "execution_count": 19,
     "metadata": {},
     "output_type": "execute_result"
    }
   ],
   "source": [
    "order_prob[61,:,107]"
   ]
  },
  {
   "cell_type": "code",
   "execution_count": 44,
   "metadata": {},
   "outputs": [
    {
     "data": {
      "text/plain": [
       "array([ 2,  5, 10,  8,  9, 10,  7,  5,  5,  4,  5,  6,  4,  3,  3,  4,  2,\n",
       "        5,  2,  2,  1,  2,  2,  5,  2,  2,  2,  1,  1,  2,  1,  1,  1,  1,\n",
       "        1,  2,  1,  1,  2,  2,  3,  3,  3,  6,  6,  8,  9, 17, 13, 15, 13,\n",
       "       16, 18, 25, 12, 13, 15, 14, 17, 25, 18, 14, 17, 17, 23, 25, 17, 19,\n",
       "       15, 19, 25, 25, 21, 20, 16, 19, 22, 25, 18, 19, 20, 21, 23, 25, 24,\n",
       "       22, 25, 23, 25, 25, 24, 23, 21, 24, 25, 25, 21, 22, 20, 25, 25, 25,\n",
       "       23, 22, 23, 25, 25, 25, 23, 25, 17, 20, 25, 25, 22, 25, 25, 23, 25,\n",
       "       25, 20, 19, 22, 22, 21, 25, 20, 19, 18, 16, 22, 25, 15, 18, 13, 12,\n",
       "       17, 18, 14, 11, 11, 10,  9,  9])"
      ]
     },
     "execution_count": 44,
     "metadata": {},
     "output_type": "execute_result"
    }
   ],
   "source": [
    "order_num = np.sum(order_param, axis=1)\n",
    "order_num[order_num>=200]=200\n",
    "order_num[ np.logical_and(order_num>=1, order_num<=8) ] = 1\n",
    "order_num[order_num>8]=order_num[order_num>8]/8\n",
    "\n",
    "order_num[61]"
   ]
  },
  {
   "cell_type": "code",
   "execution_count": 46,
   "metadata": {},
   "outputs": [
    {
     "data": {
      "text/plain": [
       "array([   624,    173,     72,    149,    225,    172,    156,     48,\n",
       "          513,    593,    221,    411,    630,    726,    591,    693,\n",
       "          559,    758,    500,    386,    281,     49,    447,    760,\n",
       "          788,    641,    609,    612,    255,    548,    379,    652,\n",
       "           84,     85,    925,    911,    909,  -1967,   -211,   -137,\n",
       "          -87,    651,    468,    826,    722,    759,   1020,    591,\n",
       "        -3397,  -2856,  -8454,   -773,    771,    617,    797,    860,\n",
       "          971,   1029,    913,  -2069,  -9075, -21960,  -8452,    -10,\n",
       "          894,    763,    539,   1013,   1093,   1107,    943, -10938,\n",
       "         -653,  -2140,    926,   1035,    815,    441,    956,   1073,\n",
       "         1187,   1214,    877,   1201,   1056,   1150,    966,   1036,\n",
       "          572,    849,    861,    804,   1108,   1246,   1233,   1196,\n",
       "         1163,   1106,    266,   1315,    517,   1120,    756,    816,\n",
       "         1274,    203,   1008,    191,    963,    413,     70,    728,\n",
       "          528,    626,   1041,   1082,   1104,    385,     23,    114,\n",
       "           37], dtype=int32)"
      ]
     },
     "execution_count": 46,
     "metadata": {},
     "output_type": "execute_result"
    }
   ],
   "source": [
    "new_order_param = order_num*order_prob\n",
    "(new_order_param.sum(-1).sum(-1)-new_order_param.sum(0).sum(-1)).astype(np.int32)"
   ]
  },
  {
   "cell_type": "code",
   "execution_count": 47,
   "metadata": {},
   "outputs": [
    {
     "data": {
      "text/plain": [
       "array([ 607,  174,   73,  148,  218,  171,  155,   48,  482,  559,  220,\n",
       "        406,  605,  674,  536,  480,  361,  644,  480,  362,  280,   50,\n",
       "        445,  725,  748,  559,  445,  510,  252,  463,  364,  586,   84,\n",
       "         85,  853,  687,  698,  193,  166,  207,  247,  535,  405,  685,\n",
       "        676,  732,  852,  442,  278,  191,  201,  333,  606,  561,  595,\n",
       "        811,  745,  724,  631,  335,  248,  226,  298,  399,  701,  715,\n",
       "        532,  944,  885,  789,  785,  256,  607,  385,  679,  910,  763,\n",
       "        439,  901,  984,  958,  958,  734,  904,  799,  955,  740,  991,\n",
       "        560,  818,  830,  784, 1033,  973, 1075,  985, 1087, 1002,  264,\n",
       "       1202,  514, 1060,  741,  797, 1095,  204,  975,  190,  939,  407,\n",
       "         70,  712,  524,  610,  995, 1019, 1052,  383,   24,  114,   37])"
      ]
     },
     "execution_count": 47,
     "metadata": {},
     "output_type": "execute_result"
    }
   ],
   "source": [
    "new_order_param.astype(np.int32).sum(-1).sum(-1)"
   ]
  },
  {
   "cell_type": "code",
   "execution_count": 48,
   "metadata": {},
   "outputs": [
    {
     "data": {
      "text/plain": [
       "array([    0,     0,     0,     0,     0,     0,     0,     0,     1,\n",
       "           0,     0,     0,     1,     0,     3,     7,    45,     6,\n",
       "           0,     0,     1,     0,     0,     2,     1,     1,     8,\n",
       "           2,     0,     5,     2,     2,     0,     0,     1,     7,\n",
       "           7,  1731,   414,   378,   413,    12,     1,     1,     0,\n",
       "           1,     3,   106,  2894,  2470,  7447,   925,    20,     3,\n",
       "           4,     0,     2,    13,    46,  1837,  8155, 20674,  7640,\n",
       "         378,    10,     2,     0,     2,     8,    17,    93, 10037,\n",
       "         918,  1979,    22,     5,     0,     0,     0,     0,     6,\n",
       "           3,    89,    15,    30,     3,    24,     0,     0,     0,\n",
       "           0,     0,     1,     4,     2,     3,     0,     2,     0,\n",
       "           0,     0,     1,     0,     0,     1,     0,     0,     0,\n",
       "           0,     0,     0,     0,     0,     0,     0,     1,     0,\n",
       "           0,     0,     0,     0])"
      ]
     },
     "execution_count": 48,
     "metadata": {},
     "output_type": "execute_result"
    }
   ],
   "source": [
    "new_order_param.astype(np.int32).sum(-1).sum(0)"
   ]
  },
  {
   "cell_type": "code",
   "execution_count": 8,
   "metadata": {},
   "outputs": [],
   "source": [
    "order_param1 = order_param.copy()\n",
    "index = order_param1.sum(axis=1)>200\n",
    "index = np.stack([index]*121,axis=1)\n",
    "order_param1[index] = order_param1[index]/2"
   ]
  },
  {
   "cell_type": "code",
   "execution_count": 14,
   "metadata": {},
   "outputs": [
    {
     "data": {
      "text/plain": [
       "array([ True,  True,  True,  True,  True,  True,  True,  True,  True,\n",
       "        True,  True,  True,  True,  True,  True,  True,  True,  True,\n",
       "        True,  True,  True,  True,  True,  True,  True,  True,  True,\n",
       "        True,  True,  True,  True,  True,  True,  True,  True,  True,\n",
       "        True,  True,  True,  True,  True,  True,  True,  True,  True,\n",
       "        True,  True,  True,  True,  True,  True,  True,  True,  True,\n",
       "        True,  True,  True,  True,  True,  True,  True,  True,  True,\n",
       "        True,  True,  True,  True,  True,  True,  True,  True,  True,\n",
       "        True,  True,  True,  True,  True,  True,  True,  True,  True,\n",
       "        True,  True,  True,  True,  True,  True,  True,  True,  True,\n",
       "        True,  True,  True,  True,  True,  True,  True,  True,  True,\n",
       "        True,  True,  True,  True,  True,  True,  True,  True,  True,\n",
       "        True,  True,  True,  True,  True,  True,  True,  True,  True,\n",
       "        True,  True,  True,  True])"
      ]
     },
     "execution_count": 14,
     "metadata": {},
     "output_type": "execute_result"
    }
   ],
   "source": [
    "index[61,:,107]"
   ]
  },
  {
   "cell_type": "code",
   "execution_count": null,
   "metadata": {},
   "outputs": [],
   "source": []
  }
 ],
 "metadata": {
  "kernelspec": {
   "display_name": "Python 3.7.9 ('torch-1.7-py3')",
   "language": "python",
   "name": "python3"
  },
  "language_info": {
   "codemirror_mode": {
    "name": "ipython",
    "version": 3
   },
   "file_extension": ".py",
   "mimetype": "text/x-python",
   "name": "python",
   "nbconvert_exporter": "python",
   "pygments_lexer": "ipython3",
   "version": "3.7.9"
  },
  "orig_nbformat": 4,
  "vscode": {
   "interpreter": {
    "hash": "5fe9a9b8f33f7e0ac91e23813387f37b7fcc0c495644616786923552cd2433c2"
   }
  }
 },
 "nbformat": 4,
 "nbformat_minor": 2
}
